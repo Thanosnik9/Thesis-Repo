{
 "cells": [
  {
   "cell_type": "code",
   "execution_count": 5,
   "id": "fd57a88d-4667-4de8-a8be-d73cbc552c65",
   "metadata": {},
   "outputs": [],
   "source": [
    "mr_luther_speech = \"\"\"I have a dream that one day on the red hills of Georgia, the sons of former slaves and the sons of former slave owners will be able to sit down together at the table of brotherhood.\n",
    " \n",
    " \n",
    "i have a dream that one day even the state of Mississippi, a state sweltering with the heat of injustice, sweltering with the heat of oppression will be transformed into an oasis of freedom and justice.\n",
    " \n",
    " \n",
    "I have a dream that my four little children will one day live in a nation where they will not be judged by the color of their skin but by the content of their character. I have a dream today.\"\"\""
   ]
  },
  {
   "cell_type": "code",
   "execution_count": 8,
   "id": "60f086fc-d90e-4f65-aae8-0a4e608d5d77",
   "metadata": {},
   "outputs": [],
   "source": [
    "words_count = len(mr_luther_speech.split())"
   ]
  },
  {
   "cell_type": "code",
   "execution_count": 9,
   "id": "d9ccdb9d-9d05-4d0d-a243-1d9ec2127a9e",
   "metadata": {},
   "outputs": [
    {
     "name": "stdout",
     "output_type": "stream",
     "text": [
      "113\n"
     ]
    }
   ],
   "source": [
    "print(words_count)"
   ]
  },
  {
   "cell_type": "code",
   "execution_count": null,
   "id": "1935c906-3aea-4a0f-934b-62d91ab393b8",
   "metadata": {},
   "outputs": [],
   "source": []
  },
  {
   "cell_type": "code",
   "execution_count": null,
   "id": "5b6f5212-09b1-4600-a319-11fa33514f67",
   "metadata": {},
   "outputs": [],
   "source": []
  },
  {
   "cell_type": "code",
   "execution_count": 10,
   "id": "4ee31179-06bd-4b4f-a862-1004a8333395",
   "metadata": {},
   "outputs": [],
   "source": [
    "words = mr_luther_speech.lower().split()"
   ]
  },
  {
   "cell_type": "code",
   "execution_count": 12,
   "id": "30dfd969-3fe6-47cc-874b-29ee7ca23f75",
   "metadata": {},
   "outputs": [],
   "source": [
    "from collections import Counter\n",
    "words_dict = dict(Counter(words))"
   ]
  },
  {
   "cell_type": "code",
   "execution_count": 13,
   "id": "bf3aa2d3-804b-4c51-95aa-49d13b80293f",
   "metadata": {},
   "outputs": [
    {
     "name": "stdout",
     "output_type": "stream",
     "text": [
      "{'i': 4, 'have': 4, 'a': 6, 'dream': 4, 'that': 3, 'one': 3, 'day': 3, 'on': 1, 'the': 9, 'red': 1, 'hills': 1, 'of': 10, 'georgia,': 1, 'sons': 2, 'former': 2, 'slaves': 1, 'and': 2, 'slave': 1, 'owners': 1, 'will': 4, 'be': 3, 'able': 1, 'to': 1, 'sit': 1, 'down': 1, 'together': 1, 'at': 1, 'table': 1, 'brotherhood.': 1, 'even': 1, 'state': 2, 'mississippi,': 1, 'sweltering': 2, 'with': 2, 'heat': 2, 'injustice,': 1, 'oppression': 1, 'transformed': 1, 'into': 1, 'an': 1, 'oasis': 1, 'freedom': 1, 'justice.': 1, 'my': 1, 'four': 1, 'little': 1, 'children': 1, 'live': 1, 'in': 1, 'nation': 1, 'where': 1, 'they': 1, 'not': 1, 'judged': 1, 'by': 2, 'color': 1, 'their': 2, 'skin': 1, 'but': 1, 'content': 1, 'character.': 1, 'today.': 1}\n"
     ]
    }
   ],
   "source": [
    "print(words_dict)"
   ]
  },
  {
   "cell_type": "code",
   "execution_count": null,
   "id": "7d7a6bd8-09a4-4139-a2f1-b40509b930b9",
   "metadata": {},
   "outputs": [],
   "source": []
  },
  {
   "cell_type": "code",
   "execution_count": null,
   "id": "62625d96-1d81-42e7-a4c1-795ad5c04d99",
   "metadata": {},
   "outputs": [],
   "source": []
  },
  {
   "cell_type": "code",
   "execution_count": null,
   "id": "49521f7b-f5b2-44f5-bb2f-9e3e20d2737d",
   "metadata": {},
   "outputs": [],
   "source": [
    "# #Write a Python program that rotates an array by two positions to the right\n",
    " \n",
    "# listt = [23, 12, 5, 24, 23, 76, 86, 24, 86, 24, 75]\n",
    " \n",
    "# After implementing right rotation the list is :\n",
    " \n",
    "# [24, 75, 23, 12, 5, 24, 23, 76, 86, 24, 86]\n",
    " "
   ]
  },
  {
   "cell_type": "code",
   "execution_count": 14,
   "id": "4fe41926-04f0-46f0-88d6-b24dac4dccac",
   "metadata": {},
   "outputs": [],
   "source": [
    "listt = [23, 12, 5, 24, 23, 76, 86, 24, 86, 24, 75]"
   ]
  },
  {
   "cell_type": "code",
   "execution_count": 17,
   "id": "33501d08-5f51-4cfd-ab79-076f020daa6a",
   "metadata": {},
   "outputs": [],
   "source": [
    "def digits_rotate(lstt,pos):\n",
    "    return lstt[-pos:] + lstt[:-pos]"
   ]
  },
  {
   "cell_type": "code",
   "execution_count": 24,
   "id": "12b3add2-0f72-4731-a56f-2622c1299ebf",
   "metadata": {},
   "outputs": [],
   "source": [
    "rotated_list = digits_rotate(listt,2)"
   ]
  },
  {
   "cell_type": "code",
   "execution_count": 25,
   "id": "96ce11ab-81b2-4b52-89f7-745fe2b6afe5",
   "metadata": {},
   "outputs": [
    {
     "name": "stdout",
     "output_type": "stream",
     "text": [
      "[24, 75, 23, 12, 5, 24, 23, 76, 86, 24, 86]\n"
     ]
    }
   ],
   "source": [
    "print(rotated_list)"
   ]
  },
  {
   "cell_type": "code",
   "execution_count": null,
   "id": "d65220fd-7b8a-443f-a76c-3873beef5561",
   "metadata": {},
   "outputs": [],
   "source": []
  },
  {
   "cell_type": "code",
   "execution_count": null,
   "id": "27cd0bd9-65e3-43b2-aada-e4f7f7cd9b90",
   "metadata": {},
   "outputs": [],
   "source": []
  },
  {
   "cell_type": "code",
   "execution_count": null,
   "id": "47cb9310-3e4a-489a-b9bd-dae5115b83fc",
   "metadata": {},
   "outputs": [],
   "source": [
    "#Write a Python program to find the second largest number in a list?"
   ]
  },
  {
   "cell_type": "code",
   "execution_count": 31,
   "id": "804a54cb-54a6-477d-930b-641ffcb6f2f9",
   "metadata": {},
   "outputs": [],
   "source": [
    "def second_largest_number(lst):\n",
    "    numbers = list(set(lst))\n",
    "    numbers.sort(reverse=True) #descending order\n",
    "\n",
    "    return numbers[1]\n",
    "    "
   ]
  },
  {
   "cell_type": "code",
   "execution_count": 32,
   "id": "44aa40ca-fdac-49fe-95f8-c87735d2cca0",
   "metadata": {},
   "outputs": [],
   "source": [
    "second_number = second_largest_number(listt)"
   ]
  },
  {
   "cell_type": "code",
   "execution_count": 33,
   "id": "821d59bf-1a89-46da-a1ac-7c0113df5a8a",
   "metadata": {},
   "outputs": [
    {
     "data": {
      "text/plain": [
       "76"
      ]
     },
     "execution_count": 33,
     "metadata": {},
     "output_type": "execute_result"
    }
   ],
   "source": [
    "second_number"
   ]
  },
  {
   "cell_type": "code",
   "execution_count": 38,
   "id": "8f22b8a3-b3d2-491a-ab37-f8e7080ce605",
   "metadata": {},
   "outputs": [
    {
     "data": {
      "text/plain": [
       "['i',\n",
       " 'have',\n",
       " 'a',\n",
       " 'dream',\n",
       " 'that',\n",
       " 'one',\n",
       " 'day',\n",
       " 'on',\n",
       " 'the',\n",
       " 'red',\n",
       " 'hills',\n",
       " 'of',\n",
       " 'georgia,',\n",
       " 'the',\n",
       " 'sons',\n",
       " 'of',\n",
       " 'former',\n",
       " 'slaves',\n",
       " 'and',\n",
       " 'the',\n",
       " 'sons',\n",
       " 'of',\n",
       " 'former',\n",
       " 'slave',\n",
       " 'owners',\n",
       " 'will',\n",
       " 'be',\n",
       " 'able',\n",
       " 'to',\n",
       " 'sit',\n",
       " 'down',\n",
       " 'together',\n",
       " 'at',\n",
       " 'the',\n",
       " 'table',\n",
       " 'of',\n",
       " 'brotherhood.',\n",
       " 'i',\n",
       " 'have',\n",
       " 'a',\n",
       " 'dream',\n",
       " 'that',\n",
       " 'one',\n",
       " 'day',\n",
       " 'even',\n",
       " 'the',\n",
       " 'state',\n",
       " 'of',\n",
       " 'mississippi,',\n",
       " 'a',\n",
       " 'state',\n",
       " 'sweltering',\n",
       " 'with',\n",
       " 'the',\n",
       " 'heat',\n",
       " 'of',\n",
       " 'injustice,',\n",
       " 'sweltering',\n",
       " 'with',\n",
       " 'the',\n",
       " 'heat',\n",
       " 'of',\n",
       " 'oppression',\n",
       " 'will',\n",
       " 'be',\n",
       " 'transformed',\n",
       " 'into',\n",
       " 'an',\n",
       " 'oasis',\n",
       " 'of',\n",
       " 'freedom',\n",
       " 'and',\n",
       " 'justice.',\n",
       " 'i',\n",
       " 'have',\n",
       " 'a',\n",
       " 'dream',\n",
       " 'that',\n",
       " 'my',\n",
       " 'four',\n",
       " 'little',\n",
       " 'children',\n",
       " 'will',\n",
       " 'one',\n",
       " 'day',\n",
       " 'live',\n",
       " 'in',\n",
       " 'a',\n",
       " 'nation',\n",
       " 'where',\n",
       " 'they',\n",
       " 'will',\n",
       " 'not',\n",
       " 'be',\n",
       " 'judged',\n",
       " 'by',\n",
       " 'the',\n",
       " 'color',\n",
       " 'of',\n",
       " 'their',\n",
       " 'skin',\n",
       " 'but',\n",
       " 'by',\n",
       " 'the',\n",
       " 'content',\n",
       " 'of',\n",
       " 'their',\n",
       " 'character.',\n",
       " 'i',\n",
       " 'have',\n",
       " 'a',\n",
       " 'dream',\n",
       " 'today.']"
      ]
     },
     "execution_count": 38,
     "metadata": {},
     "output_type": "execute_result"
    }
   ],
   "source": [
    "words"
   ]
  },
  {
   "cell_type": "code",
   "execution_count": null,
   "id": "94ee3d95-a598-40ab-aa6e-8e7cea58f5c4",
   "metadata": {},
   "outputs": [],
   "source": [
    "#Fetch the largest word at mr_luther_speech"
   ]
  },
  {
   "cell_type": "code",
   "execution_count": 43,
   "id": "db3048aa-37af-45cd-bb56-0b9bd0f60d3d",
   "metadata": {},
   "outputs": [],
   "source": [
    "largest_word = max(mr_luther_speech.lower().split(), key=len)"
   ]
  },
  {
   "cell_type": "code",
   "execution_count": 44,
   "id": "48003710-7301-4cbf-89cd-b2378410ea39",
   "metadata": {},
   "outputs": [
    {
     "data": {
      "text/plain": [
       "'brotherhood.'"
      ]
     },
     "execution_count": 44,
     "metadata": {},
     "output_type": "execute_result"
    }
   ],
   "source": [
    "largest_word"
   ]
  },
  {
   "cell_type": "code",
   "execution_count": 45,
   "id": "fa027dc1-50de-43b8-b679-51aa0fc37d31",
   "metadata": {},
   "outputs": [],
   "source": [
    "length_of_largest_word = len(largest_word)"
   ]
  },
  {
   "cell_type": "code",
   "execution_count": 46,
   "id": "e99c0761-0f8e-4ad0-91ff-9f58885f6afc",
   "metadata": {},
   "outputs": [
    {
     "name": "stdout",
     "output_type": "stream",
     "text": [
      "12\n"
     ]
    }
   ],
   "source": [
    "print(length_of_largest_word)"
   ]
  },
  {
   "cell_type": "code",
   "execution_count": null,
   "id": "8618e94b-ffe6-4433-9c8c-fa299dbbcdc8",
   "metadata": {},
   "outputs": [],
   "source": []
  },
  {
   "cell_type": "raw",
   "id": "ff26fa58-16c3-4861-9878-1ef662cdfd5a",
   "metadata": {},
   "source": []
  },
  {
   "cell_type": "code",
   "execution_count": 47,
   "id": "9107341b-933b-410d-8a91-cc9761b40be6",
   "metadata": {},
   "outputs": [],
   "source": [
    "all_words_equals_to_max_length = [word for word in (mr_luther_speech.lower().split()) if len(word) == length_of_largest_word]"
   ]
  },
  {
   "cell_type": "code",
   "execution_count": 48,
   "id": "d2a852e9-ce80-42e3-b460-1fb17638bd13",
   "metadata": {},
   "outputs": [
    {
     "data": {
      "text/plain": [
       "['brotherhood.', 'mississippi,']"
      ]
     },
     "execution_count": 48,
     "metadata": {},
     "output_type": "execute_result"
    }
   ],
   "source": [
    "all_words_equals_to_max_length"
   ]
  },
  {
   "cell_type": "code",
   "execution_count": null,
   "id": "ee960c60-31f1-4bbe-b238-1da9b28db39a",
   "metadata": {},
   "outputs": [],
   "source": []
  },
  {
   "cell_type": "code",
   "execution_count": null,
   "id": "1203e285-97d9-4385-b4bd-e6e2234b9c14",
   "metadata": {},
   "outputs": [],
   "source": []
  },
  {
   "cell_type": "code",
   "execution_count": null,
   "id": "15ad5b6e-b21b-445b-90da-178301a0dae9",
   "metadata": {},
   "outputs": [],
   "source": [
    "#[7,1,5,2,8] "
   ]
  },
  {
   "cell_type": "code",
   "execution_count": null,
   "id": "c0b98a80-23d6-4e5b-979d-713d58133183",
   "metadata": {},
   "outputs": [],
   "source": []
  },
  {
   "cell_type": "code",
   "execution_count": 16,
   "id": "009a1fde-ca33-4fcb-a740-395e999f9796",
   "metadata": {},
   "outputs": [],
   "source": [
    "def max_profit(prices):\n",
    "    #min_price = prices[0]\n",
    "    max_profit = 0\n",
    "\n",
    "    for i in range(1,len(prices)):\n",
    "        if prices[i] > prices[i-1]:\n",
    "            max_profit += prices[i] - prices[i-1]\n",
    "    return max_profit"
   ]
  },
  {
   "cell_type": "code",
   "execution_count": 20,
   "id": "fe1447d6-2b9a-4bd7-8818-fa58fa0d1419",
   "metadata": {},
   "outputs": [],
   "source": [
    "prices = [7,1,5,1,2,8] "
   ]
  },
  {
   "cell_type": "code",
   "execution_count": 21,
   "id": "cbe18623-e26a-45e9-a67d-69db8d568cc9",
   "metadata": {},
   "outputs": [
    {
     "name": "stdout",
     "output_type": "stream",
     "text": [
      "Maximum Profit With Multiple Ways: 11\n"
     ]
    }
   ],
   "source": [
    "print(\"Maximum Profit With Multiple Ways:\", max_profit(prices))"
   ]
  },
  {
   "cell_type": "code",
   "execution_count": null,
   "id": "0a106e39-edf5-44ff-aeaa-efb124cf631e",
   "metadata": {},
   "outputs": [],
   "source": []
  }
 ],
 "metadata": {
  "kernelspec": {
   "display_name": "Thesis Thanasis",
   "language": "python",
   "name": "thesis"
  },
  "language_info": {
   "codemirror_mode": {
    "name": "ipython",
    "version": 3
   },
   "file_extension": ".py",
   "mimetype": "text/x-python",
   "name": "python",
   "nbconvert_exporter": "python",
   "pygments_lexer": "ipython3",
   "version": "3.10.14"
  }
 },
 "nbformat": 4,
 "nbformat_minor": 5
}
