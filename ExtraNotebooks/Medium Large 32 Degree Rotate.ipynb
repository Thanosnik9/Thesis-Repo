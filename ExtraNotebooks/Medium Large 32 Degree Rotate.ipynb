{
 "cells": [
  {
   "cell_type": "code",
   "execution_count": 1,
   "id": "5c26ae59-add6-45b5-848a-e70c2db8b221",
   "metadata": {},
   "outputs": [],
   "source": [
    "# import os\n",
    "# import numpy as np\n",
    "# from PIL import Image\n",
    "# import random\n",
    "\n",
    "# # Define paths\n",
    "# base_dir = 'C:\\\\Users\\\\Θάνος\\\\Desktop\\\\Thesis Thanasis\\\\data'\n",
    "# output_dir = 'C:\\\\Users\\\\Θάνος\\\\Desktop\\\\Thesis Thanasis\\\\data_aug_2'\n",
    "\n",
    "# # Create new directory structure\n",
    "# os.makedirs(output_dir, exist_ok=True)\n",
    "# for condition in ['clear', 'clouds']:\n",
    "#     for category in ['Healthy', 'Minor Damage', 'Medium Damage', 'Large Damage']:\n",
    "#         os.makedirs(os.path.join(output_dir, condition, category), exist_ok=True)\n",
    "\n",
    "# # Define the rotation angles\n",
    "# rotation_angles = np.linspace(0, 360, 32, endpoint=False)  # 32 different angles\n",
    "\n",
    "# # Define the rotation angles\n",
    "# rotation_angles = np.linspace(0, 360, 32, endpoint=False)  # 32 different angles\n",
    "\n",
    "# def augment_and_save_images(input_dir, output_dir, img_height, img_width, angles):\n",
    "#     for filename in os.listdir(input_dir):\n",
    "#         if filename.endswith('.png'):\n",
    "#             filepath = os.path.join(input_dir, filename)\n",
    "#             img = Image.open(filepath).resize((img_height, img_width))\n",
    "#             base_filename = os.path.splitext(filename)[0]\n",
    "            \n",
    "#             # Save original image\n",
    "#             img.save(os.path.join(output_dir, f\"{base_filename}_0.png\"))\n",
    "            \n",
    "#             # Rotate and save augmented images\n",
    "#             for i, angle in enumerate(angles, start=1):\n",
    "#                 rotated_img = img.rotate(angle)\n",
    "#                 rotated_img.save(os.path.join(output_dir, f\"{base_filename}_{i}.png\"))\n",
    "\n",
    "# # Copy Healthy and Minor Damage images without augmentation\n",
    "# for condition in ['clear', 'clouds']:\n",
    "#     for category in ['Healthy', 'Minor Damage']:\n",
    "#         input_dir = os.path.join(base_dir, condition, category)\n",
    "#         output_category_dir = os.path.join(output_dir, condition, category)\n",
    "#         for filename in os.listdir(input_dir):\n",
    "#             if filename.endswith('.png'):\n",
    "#                 filepath = os.path.join(input_dir, filename)\n",
    "#                 img = Image.open(filepath).resize((224, 224))\n",
    "#                 img.save(os.path.join(output_category_dir, filename))\n",
    "\n",
    "# # Augment Medium Damage and Large Damage images\n",
    "# for condition in ['clear', 'clouds']:\n",
    "#     for category in ['Medium Damage', 'Large Damage']:\n",
    "#         input_dir = os.path.join(base_dir, condition, category)\n",
    "#         output_category_dir = os.path.join(output_dir, condition, category)\n",
    "#         augment_and_save_images(input_dir, output_category_dir, 224, 224, rotation_angles)"
   ]
  },
  {
   "cell_type": "code",
   "execution_count": 6,
   "id": "629513f7-a89a-4b0e-99d4-a23d36417126",
   "metadata": {},
   "outputs": [],
   "source": [
    "# import matplotlib.pyplot as plt\n",
    "# import random\n",
    "\n",
    "# def visualize_data(data, labels, ids, categories, num_images=10):\n",
    "#     plt.figure(figsize=(20, num_images * 2))\n",
    "#     indices = random.sample(range(len(data)), num_images)\n",
    "    \n",
    "#     for i, idx in enumerate(indices):\n",
    "#         ax = plt.subplot(num_images, 2, 2 * i + 1)\n",
    "#         plt.imshow(data[idx])\n",
    "#         plt.title(f\"Class: {categories[np.argmax(labels[idx])]} \\nID: {ids[idx]}\")\n",
    "#         plt.axis(\"off\")\n",
    "\n",
    "# visualize_data(data, labels, ids, categories)"
   ]
  },
  {
   "cell_type": "code",
   "execution_count": null,
   "id": "3f416c10-d65d-4f39-a2f4-a3d40c8a7d95",
   "metadata": {},
   "outputs": [],
   "source": []
  }
 ],
 "metadata": {
  "kernelspec": {
   "display_name": "Thesis Thanasis",
   "language": "python",
   "name": "thesis"
  },
  "language_info": {
   "codemirror_mode": {
    "name": "ipython",
    "version": 3
   },
   "file_extension": ".py",
   "mimetype": "text/x-python",
   "name": "python",
   "nbconvert_exporter": "python",
   "pygments_lexer": "ipython3",
   "version": "3.10.14"
  }
 },
 "nbformat": 4,
 "nbformat_minor": 5
}
